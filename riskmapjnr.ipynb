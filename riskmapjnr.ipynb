{
 "cells": [
  {
   "cell_type": "markdown",
   "id": "6777eb4d-ed7a-4799-8093-0ef1810f1373",
   "metadata": {},
   "source": [
    "# Compute riskmapJNR at administrative scale"
   ]
  },
  {
   "cell_type": "markdown",
   "id": "44fe960e-5483-4e19-a520-d7eaea73bbdf",
   "metadata": {},
   "source": [
    "## set up parameter"
   ]
  },
  {
   "cell_type": "markdown",
   "id": "5729550a-58a1-4730-ba59-21be64905ecc",
   "metadata": {},
   "source": [
    "set the parameters of the AOI. the AOI code should be from GAO GAUL 2015 dataset. references can be found here: https://data.apps.fao.org/catalog/dataset/gaul-codes"
   ]
  },
  {
   "cell_type": "code",
   "execution_count": null,
   "id": "03cd80be-69b1-4bac-b574-0c4d27483e91",
   "metadata": {},
   "outputs": [],
   "source": [
    "admin_code = 133"
   ]
  },
  {
   "cell_type": "markdown",
   "id": "aadfb404-ca65-41c5-830a-47c122d9b98f",
   "metadata": {},
   "source": [
    "Then set up the informations relative to the FOrest cover change:\n",
    "- Global forest change: \"GFC\""
   ]
  },
  {
   "cell_type": "code",
   "execution_count": null,
   "id": "36940cc8-561b-4981-939e-ee98a9c7cc80",
   "metadata": {},
   "outputs": [],
   "source": [
    "fc_source = \"GFC\""
   ]
  },
  {
   "cell_type": "markdown",
   "id": "fc0bb124-4306-4254-951f-a176246f13fa",
   "metadata": {},
   "source": [
    "finaly set up the years of your calibration and validation period"
   ]
  },
  {
   "cell_type": "code",
   "execution_count": null,
   "id": "277b7a30-51f9-409e-922c-c3da3086c248",
   "metadata": {},
   "outputs": [],
   "source": [
    "calib_start = 2015\n",
    "calib_end = 2018\n",
    "valid_start = 2018\n",
    "valid_end = 2021"
   ]
  },
  {
   "cell_type": "markdown",
   "id": "3ef09071-66a7-444b-a943-4ce037d5432a",
   "metadata": {},
   "source": [
    "from this point no inputs are required from the user"
   ]
  },
  {
   "cell_type": "markdown",
   "id": "38b5a396-548b-43d6-8d1b-14c7cd108a9b",
   "metadata": {},
   "source": [
    "## import libs for the computation"
   ]
  },
  {
   "cell_type": "code",
   "execution_count": null,
   "id": "7560434b-8873-4942-93d7-b60bdc682a6e",
   "metadata": {},
   "outputs": [],
   "source": [
    "import multiprocessing as mp\n",
    "\n",
    "from sepal_ui import aoi\n",
    "from sepal_ui import mapping as sm\n",
    "from matplotlib import pyplot as plt\n",
    "import numpy as n\n",
    "import riskmapjnr as rmj\n",
    "import rasterio as rio\n",
    "from rasterio.plot import show\n",
    "\n",
    "from component.model import FccModel\n",
    "from component import scripts as cs\n",
    "from component import parameter as cp\n",
    "from component.message import cm"
   ]
  },
  {
   "cell_type": "markdown",
   "id": "c356a18d-623d-456f-b16a-41c4da7ad841",
   "metadata": {},
   "source": [
    "## retreive the FCC informations"
   ]
  },
  {
   "cell_type": "code",
   "execution_count": null,
   "id": "89229b72-d8b6-431f-8a41-04e744c0dc87",
   "metadata": {},
   "outputs": [],
   "source": [
    "aoi_model = aoi.AoiModel(admin=str(admin_code))"
   ]
  },
  {
   "cell_type": "code",
   "execution_count": null,
   "id": "f25e701d-fb99-4652-8b56-de7b7de0a466",
   "metadata": {},
   "outputs": [],
   "source": [
    "fcc_model = FccModel(\n",
    "    source=fc_source,\n",
    "    calib_start=calib_start,\n",
    "    calib_end=calib_end,\n",
    "    valid_start=valid_start,\n",
    "    valid_end=valid_end,\n",
    "    aoi_name=aoi_model.name,\n",
    ")"
   ]
  },
  {
   "cell_type": "code",
   "execution_count": null,
   "id": "7d7e015f-d377-4ef3-a048-fbef7d41b25f",
   "metadata": {},
   "outputs": [],
   "source": [
    "if fc_source == \"GFC\":\n",
    "\n",
    "    fcc_data = cs.fcc_from_gfc(\n",
    "        fcc_model.calib_start,\n",
    "        fcc_model.calib_end,\n",
    "        fcc_model.valid_start,\n",
    "        fcc_model.valid_end,\n",
    "    )\n",
    "\n",
    "else:\n",
    "    raise Exception(f\"{fc_source} not yet supported\")"
   ]
  },
  {
   "cell_type": "code",
   "execution_count": null,
   "id": "e6bfc324-4c5d-4bed-8fd0-0273d6dea00e",
   "metadata": {},
   "outputs": [],
   "source": [
    "# add the value on a map to check results\n",
    "\n",
    "clip_data = fcc_data.select(\"fcc\").clip(aoi_model.feature_collection)\n",
    "\n",
    "m = sm.SepalMap()\n",
    "vi = sm.ValueInspector(m=m)\n",
    "m.add_control(vi)\n",
    "m.addLayer(clip_data, cp.fcc_display, cm.fcc.layer)\n",
    "m.zoom_ee_object(aoi_model.feature_collection)\n",
    "m"
   ]
  },
  {
   "cell_type": "code",
   "execution_count": null,
   "id": "64741a1d-cf95-44a1-8a34-35af6d361133",
   "metadata": {},
   "outputs": [],
   "source": [
    "# create a grid to download the images\n",
    "\n",
    "# create a grid around the aoi\n",
    "grid = cs.set_grid(aoi_model.gdf)\n",
    "\n",
    "fig, ax = plt.subplots()\n",
    "grid.plot(ax=ax, edgecolor=\"black\")\n",
    "aoi_view.model.gdf.plot(ax=ax, facecolor=\"none\", edgecolor=\"red\", linewidth=2)"
   ]
  },
  {
   "cell_type": "code",
   "execution_count": null,
   "id": "650ff7b1-e140-4983-8ff6-8b5a3acb8cda",
   "metadata": {},
   "outputs": [],
   "source": [
    "# download the images\n",
    "fc = fcc_data.select(\"fcc\").clip(aoi_model.feature_collection)\n",
    "cs.download_fcc(\n",
    "    grid=grid,\n",
    "    image=fc.unmask(),\n",
    "    dst_dir=self.fcc_model.fcc_dir(),\n",
    "    alert=self.alert,\n",
    ")"
   ]
  },
  {
   "cell_type": "markdown",
   "id": "a0e025de-0616-440f-9b89-e88c221b4cc2",
   "metadata": {},
   "source": [
    "## compute the riskmap"
   ]
  },
  {
   "cell_type": "code",
   "execution_count": null,
   "id": "ba0ec062-e469-4766-9bdd-3876b429fb38",
   "metadata": {},
   "outputs": [],
   "source": [
    "ncpu = mp.cpu_count() - 2\n",
    "\n",
    "fcc_vrt = self.fcc_model.fcc_dir() / \"fcc.vrt\"\n",
    "\n",
    "results_makemap = rmj.makemap(\n",
    "    fcc_file=str(fcc_vrt),\n",
    "    time_interval=(fcc_model.calib_len(), fcc_model.valid_len()),\n",
    "    output_dir=str(fcc_model.computation_dir()),\n",
    "    clean=False,\n",
    "    dist_bins=np.arange(0, 1080, step=30),\n",
    "    win_sizes=np.arange(5, 100, 8),\n",
    "    ncat=30,\n",
    "    parallel=True,\n",
    "    ncpu=ncpu,\n",
    "    methods=[\"Equal Interval\", \"Equal Area\"],\n",
    "    csize=40,\n",
    "    no_quantity_error=True,\n",
    "    figsize=(6.4, 4.8),\n",
    "    dpi=100,\n",
    "    blk_rows=128,\n",
    "    verbose=True,\n",
    ")"
   ]
  },
  {
   "cell_type": "code",
   "execution_count": null,
   "id": "43c27041-6784-4aa0-9449-a4fb24a80416",
   "metadata": {},
   "outputs": [],
   "source": [
    "ws_hat = results_makemap[\"ws_hat\"]\n",
    "m_hat = results_makemap[\"m_hat\"]\n",
    "dist_thresh = results_makemap[\"dist_thresh\"]\n",
    "print(f\"The distance theshold is {dist_thresh} m.\")\n",
    "print(f\"The best moving window size is {ws_hat} pixels.\")\n",
    "print(f\"The best slicing algorithm is '{m_hat}'.\")"
   ]
  },
  {
   "cell_type": "code",
   "execution_count": null,
   "id": "c3419d2f-de45-4f0e-bd75-965a220143bb",
   "metadata": {},
   "outputs": [],
   "source": [
    "fname = f\"riskmap_ws{ws_hat}_{m_hat}_ev.tif\"\n",
    "file = fcc_model.computation_dir() / \"endval\" / fname\n",
    "\n",
    "with rio.open(ifile) as src:\n",
    "    show(src.read(1))"
   ]
  },
  {
   "cell_type": "code",
   "execution_count": null,
   "id": "9d02b381-8d3a-4cb1-9bc6-0a75b6aadc30",
   "metadata": {},
   "outputs": [],
   "source": []
  }
 ],
 "metadata": {
  "kernelspec": {
   "display_name": "Python 3",
   "language": "python",
   "name": "python3"
  },
  "language_info": {
   "codemirror_mode": {
    "name": "ipython",
    "version": 3
   },
   "file_extension": ".py",
   "mimetype": "text/x-python",
   "name": "python",
   "nbconvert_exporter": "python",
   "pygments_lexer": "ipython3",
   "version": "3.8.10"
  }
 },
 "nbformat": 4,
 "nbformat_minor": 5
}
