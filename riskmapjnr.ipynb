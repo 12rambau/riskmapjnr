{
 "cells": [
  {
   "cell_type": "code",
   "execution_count": null,
   "id": "36940cc8-561b-4981-939e-ee98a9c7cc80",
   "metadata": {},
   "outputs": [],
   "source": [
    "from sepal_ui import aoi"
   ]
  },
  {
   "cell_type": "code",
   "execution_count": null,
   "id": "89229b72-d8b6-431f-8a41-04e744c0dc87",
   "metadata": {},
   "outputs": [],
   "source": [
    "aoi_view = aoi.AoiView()\n",
    "aoi_view"
   ]
  },
  {
   "cell_type": "code",
   "execution_count": null,
   "id": "15bfe085-02f9-47f8-8b8a-62b9f831c1a8",
   "metadata": {},
   "outputs": [],
   "source": [
    "# check if an aoi have been selected\n",
    "assert aoi_view.model.name, \"the country have not been selected. please validate an AOI\""
   ]
  },
  {
   "cell_type": "code",
   "execution_count": null,
   "id": "0bf6f082-255a-4bc3-a3d8-97c4df1099c7",
   "metadata": {},
   "outputs": [],
   "source": [
    "# set the dte of the analysis\n",
    "calib = {\n",
    "    \"start\": 2015,\n",
    "    \"end\": 2018,\n",
    "}\n",
    "\n",
    "valid = {\n",
    "    \"start\": 2018,\n",
    "    \"end\": 2021,\n",
    "}"
   ]
  },
  {
   "cell_type": "code",
   "execution_count": null,
   "id": "55eaf446-390d-43ba-aea8-e8c5219e21dc",
   "metadata": {},
   "outputs": [],
   "source": [
    "# get the data from hansen dataset using earthengine\n",
    "from sepal_ui.scripts import utils as su\n",
    "from sepal_ui import mapping as sm\n",
    "import ee\n",
    "\n",
    "su.init_ee()\n",
    "\n",
    "# 1 for deforestation on the calibration period\n",
    "# 2 for deforestation on the validation period\n",
    "# 3 for the remaining forest at the end of validation\n",
    "# NoData value is set to 0\n",
    "dataset = ee.Image(\"UMD/hansen/global_forest_change_2021_v1_9\")\n",
    "forest_thres = 10\n",
    "\n",
    "bands = {\n",
    "    \"A\": dataset.select(\"treecover2000\"),\n",
    "    \"B\": dataset.select(\"lossyear\").unmask(0),\n",
    "}\n",
    "\n",
    "calc = \"fcc = \"\n",
    "calc += f\"(A>{forest_thres})*(B>{calib['start']-2000})*(B<={calib['end']-2000})*1 + \"\n",
    "calc += f\"(A>{forest_thres})*(B>{valid['start']-2000})*(B<={valid['end']-2000})*2 + \"\n",
    "calc += f\"(A>{forest_thres})*(B==0)*3\"\n",
    "\n",
    "filtered_data = dataset.expression(calc, bands).mask(dataset.select(\"datamask\")).int8()\n",
    "\n",
    "# create a map to flex\n",
    "m = sm.SepalMap()\n",
    "vi = sm.ValueInspector(m=m)\n",
    "m.add_control(vi)\n",
    "m.addLayer(\n",
    "    filtered_data.select(\"fcc\").clip(aoi_view.model.feature_collection),\n",
    "    {\"palette\": [\"black\", \"red\", \"orange\", \"green\"], \"min\": 0, \"max\": 3},\n",
    "    \"forest cover change\",\n",
    ")\n",
    "m.zoom_ee_object(aoi_view.model.feature_collection)"
   ]
  },
  {
   "cell_type": "code",
   "execution_count": null,
   "id": "ec7f711b-eb13-4c2b-9bd2-2583a45ac8f1",
   "metadata": {},
   "outputs": [],
   "source": [
    "# name your computation\n",
    "from component import parameter as pm\n",
    "from pathlib import Path\n",
    "\n",
    "name = \"test\"\n",
    "result_dir = pm.result_dir / name\n",
    "result_dir.mkdir(exist_ok=True)"
   ]
  },
  {
   "cell_type": "code",
   "execution_count": null,
   "id": "f457f1ce-21b7-4a3e-bc28-30259f024a80",
   "metadata": {},
   "outputs": [],
   "source": [
    "# download the map\n",
    "from component import scripts as cs\n",
    "from matplotlib import pyplot as plt\n",
    "\n",
    "# create a folder to save the images\n",
    "fcc_dir = result_dir / \"fcc\"\n",
    "fcc_dir.mkdir(exist_ok=True)\n",
    "\n",
    "# create a grid around the aoi\n",
    "grid = cs.set_grid(aoi_view.model.gdf)\n",
    "\n",
    "fig, ax = plt.subplots()\n",
    "grid.plot(ax=ax, edgecolor=\"black\")\n",
    "aoi_view.model.gdf.plot(ax=ax, facecolor=\"none\", edgecolor=\"red\", linewidth=2)"
   ]
  },
  {
   "cell_type": "code",
   "execution_count": null,
   "id": "bdbc82ce-349f-4a50-bb76-665667a4c738",
   "metadata": {},
   "outputs": [],
   "source": [
    "# download all the images\n",
    "from tqdm.notebook import tqdm\n",
    "from sepal_ui.scripts import utils as su\n",
    "import tempfile\n",
    "from urllib.request import urlretrieve\n",
    "import zipfile\n",
    "\n",
    "pbar = tqdm(total=len(grid), unit=\"image\", unit_scale=True)\n",
    "\n",
    "for i, r in grid.iterrows():\n",
    "    geometry = grid.filter(items=[i], axis=0)\n",
    "    ee_geometry = ee.Geometry(r.geometry.__geo_interface__)\n",
    "    image = filtered_data.select(\"fcc\").clip(aoi_view.model.feature_collection).unmask()\n",
    "    link = image.getDownloadURL(\n",
    "        {\n",
    "            \"name\": f\"fcc_{i}\",\n",
    "            \"region\": ee_geometry,\n",
    "            \"filePerBand\": False,\n",
    "            \"scale\": 30,\n",
    "            \"crs\": \"EPSG:3857\",\n",
    "        }\n",
    "    )\n",
    "\n",
    "    with tempfile.NamedTemporaryFile() as f:\n",
    "        dst = fcc_dir / f\"fcc_{i}.tiff\"\n",
    "\n",
    "        if not dst.is_file():\n",
    "            urlretrieve(link, f.name)\n",
    "            with zipfile.ZipFile(f.name, \"r\") as zip_:\n",
    "                data = zip_.read(zip_.namelist()[0])\n",
    "                dst.write_bytes(data)\n",
    "\n",
    "    pbar.update()"
   ]
  },
  {
   "cell_type": "code",
   "execution_count": null,
   "id": "52faaa9b-a0c7-4eef-b452-71a9b141fdab",
   "metadata": {},
   "outputs": [],
   "source": [
    "# create a vrt from it\n",
    "from osgeo import gdal\n",
    "\n",
    "fcc_file = fcc_dir / \"fcc.vrt\"\n",
    "filepaths = [str(f) for f in fcc_dir.glob(\"*.tiff\")]\n",
    "ds = gdal.BuildVRT(str(fcc_file), filepaths)\n",
    "ds.FlushCache()"
   ]
  },
  {
   "cell_type": "code",
   "execution_count": null,
   "id": "ba0ec062-e469-4766-9bdd-3876b429fb38",
   "metadata": {},
   "outputs": [],
   "source": [
    "import multiprocessing as mp\n",
    "import pkg_resources\n",
    "\n",
    "import numpy as np\n",
    "import pandas as pd\n",
    "from tabulate import tabulate\n",
    "\n",
    "import riskmapjnr as rmj\n",
    "\n",
    "ncpu = mp.cpu_count() - 2\n",
    "results_makemap = rmj.makemap(\n",
    "    fcc_file=str(fcc_file),\n",
    "    time_interval=[calib[\"end\"] - calib[\"start\"], valid[\"end\"] - valid[\"start\"]],\n",
    "    output_dir=str(result_dir),\n",
    "    clean=False,\n",
    "    dist_bins=np.arange(0, 1080, step=30),\n",
    "    win_sizes=np.arange(5, 100, 8),\n",
    "    ncat=30,\n",
    "    parallel=True,\n",
    "    ncpu=ncpu,\n",
    "    methods=[\"Equal Interval\", \"Equal Area\"],\n",
    "    csize=40,\n",
    "    no_quantity_error=True,\n",
    "    figsize=(6.4, 4.8),\n",
    "    dpi=100,\n",
    "    blk_rows=128,\n",
    "    verbose=True,\n",
    ")"
   ]
  },
  {
   "cell_type": "code",
   "execution_count": null,
   "id": "43c27041-6784-4aa0-9449-a4fb24a80416",
   "metadata": {},
   "outputs": [],
   "source": [
    "ws_hat = results_makemap[\"ws_hat\"]\n",
    "m_hat = results_makemap[\"m_hat\"]\n",
    "dist_thresh = results_makemap[\"dist_thresh\"]\n",
    "print(f\"The distance theshold is {dist_thresh} m.\")\n",
    "print(f\"The best moving window size is {ws_hat} pixels.\")\n",
    "print(f\"The best slicing algorithm is '{m_hat}'.\")"
   ]
  },
  {
   "cell_type": "code",
   "execution_count": null,
   "id": "c3419d2f-de45-4f0e-bd75-965a220143bb",
   "metadata": {},
   "outputs": [],
   "source": [
    "from importlib import reload\n",
    "\n",
    "matplotlib = reload(matplotlib)\n",
    "import rasterio as rio\n",
    "from rasterio.plot import show\n",
    "\n",
    "ifile = result_dir / \"endval\" / f\"riskmap_ws{ws_hat}_{m_hat}_ev.tif\"\n",
    "\n",
    "with rio.open(ifile) as src:\n",
    "    data = src.read(1)\n",
    "\n",
    "show(data)"
   ]
  },
  {
   "cell_type": "code",
   "execution_count": null,
   "id": "c12e6c91-425b-46ee-8dae-0ea2925ee8b3",
   "metadata": {},
   "outputs": [],
   "source": []
  }
 ],
 "metadata": {
  "kernelspec": {
   "display_name": "Python 3",
   "language": "python",
   "name": "python3"
  },
  "language_info": {
   "codemirror_mode": {
    "name": "ipython",
    "version": 3
   },
   "file_extension": ".py",
   "mimetype": "text/x-python",
   "name": "python",
   "nbconvert_exporter": "python",
   "pygments_lexer": "ipython3",
   "version": "3.8.10"
  }
 },
 "nbformat": 4,
 "nbformat_minor": 5
}
