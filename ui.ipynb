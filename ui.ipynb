{
 "cells": [
  {
   "cell_type": "code",
   "execution_count": null,
   "metadata": {},
   "outputs": [],
   "source": [
    "from sepal_ui import sepalwidgets as sw\n",
    "from component.message import cm"
   ]
  },
  {
   "cell_type": "code",
   "execution_count": null,
   "metadata": {},
   "outputs": [],
   "source": [
    "# Create an appBar\n",
    "app_bar = sw.AppBar(cm.app.title, cm)"
   ]
  },
  {
   "cell_type": "code",
   "execution_count": null,
   "metadata": {},
   "outputs": [],
   "source": [
    "# Create a footer\n",
    "app_footer = sw.Footer(cm.app.footer.format(2020))"
   ]
  },
  {
   "cell_type": "code",
   "execution_count": null,
   "metadata": {},
   "outputs": [],
   "source": [
    "# load the patial files\n",
    "%run 'about_ui.ipynb'\n",
    "\n",
    "# Gather all the partial tiles that you created previously\n",
    "app_content = [\n",
    "    about_tile,\n",
    "    disclaimer_tile,\n",
    "]"
   ]
  },
  {
   "cell_type": "code",
   "execution_count": null,
   "metadata": {},
   "outputs": [],
   "source": [
    "# create a drawer for each group of tile\n",
    "# fmt: off\n",
    "items = [\n",
    "    sw.DrawerItem(cm.app.drawer_item.about, \"fa-solid fa-question-circle\", card=\"about_tile\"),\n",
    "]\n",
    "# fmt: on\n",
    "\n",
    "# Add the links to the code, wiki and issue tracker of your\n",
    "code_link = \"https://github.com/12rambau/riskmapjnr/\"\n",
    "wiki_link = \"https://github.com/12rambau/riskmapjnr/blob/master/doc/en.rst\"\n",
    "issue_link = \"https://github.com/12rambau/riskmapjnr/issues/new\"\n",
    "\n",
    "# Create the side drawer with all its components\n",
    "app_drawer = sw.NavDrawer(items=items, code=code_link, wiki=wiki_link, issue=issue_link)"
   ]
  },
  {
   "cell_type": "code",
   "execution_count": null,
   "metadata": {},
   "outputs": [],
   "source": [
    "# build the Html final app by gathering everything\n",
    "app = sw.App(\n",
    "    tiles=app_content,\n",
    "    appBar=app_bar,\n",
    "    footer=app_footer,\n",
    "    navDrawer=app_drawer,\n",
    "    translator=cm,\n",
    ")"
   ]
  },
  {
   "cell_type": "code",
   "execution_count": null,
   "metadata": {},
   "outputs": [],
   "source": [
    "# display the app\n",
    "app.show_tile(\"about_tile\").add_banner(cm.app.banner)"
   ]
  }
 ],
 "metadata": {
  "kernelspec": {
   "display_name": "Python 3",
   "language": "python",
   "name": "python3"
  },
  "language_info": {
   "codemirror_mode": {
    "name": "ipython",
    "version": 3
   },
   "file_extension": ".py",
   "mimetype": "text/x-python",
   "name": "python",
   "nbconvert_exporter": "python",
   "pygments_lexer": "ipython3",
   "version": "3.8.10"
  },
  "voila": {
   "theme": "dark"
  }
 },
 "nbformat": 4,
 "nbformat_minor": 4
}
